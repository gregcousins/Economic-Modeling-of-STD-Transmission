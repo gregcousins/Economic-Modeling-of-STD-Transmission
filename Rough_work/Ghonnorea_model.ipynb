{
 "cells": [
  {
   "cell_type": "code",
   "execution_count": 1,
   "id": "8ede16ff",
   "metadata": {},
   "outputs": [
    {
     "name": "stdout",
     "output_type": "stream",
     "text": [
      "Collecting kaleido\n",
      "  Using cached kaleido-0.2.1-py2.py3-none-manylinux1_x86_64.whl (79.9 MB)\n",
      "Installing collected packages: kaleido\n",
      "Successfully installed kaleido-0.2.1\n",
      "Note: you may need to restart the kernel to use updated packages.\n"
     ]
    }
   ],
   "source": [
    "\n",
    "pip install -U kaleido"
   ]
  },
  {
   "cell_type": "code",
   "execution_count": 2,
   "id": "458d272f",
   "metadata": {},
   "outputs": [],
   "source": [
    "import os\n",
    "import sys\n",
    "import matplotlib.pyplot as plt\n",
    "import numpy as np\n",
    "import pandas as pd\n",
    "from scipy.integrate import odeint\n",
    "import plotly.graph_objects as go\n",
    "import plotly.io as pio\n",
    "pio.renderers.default = \"notebook\"\n",
    "%matplotlib inline\n",
    "plt.style.use('ggplot')\n"
   ]
  },
  {
   "cell_type": "code",
   "execution_count": 3,
   "id": "c3c2fe33",
   "metadata": {},
   "outputs": [],
   "source": [
    "# Jupyter Specifics\n",
    "from IPython.display import HTML\n",
    "from ipywidgets.widgets import interact, IntSlider, FloatSlider, Layout\n",
    "\n",
    "style = {'description_width': '100px'}\n",
    "slider_layout = Layout(width='99%')"
   ]
  },
  {
   "cell_type": "code",
   "execution_count": 4,
   "id": "b7c4cf2a",
   "metadata": {},
   "outputs": [],
   "source": [
    "def ode_model(z, t, T, symp_T, c_3, p_trans, p_symp):\n",
    "    \n",
    "    \"\"\"\n",
    "    Values: \n",
    "    X=Susceptible, uninfected population\n",
    "    S_t=syptomatic, tested regularly and uniformly (such as every 3 months etc)\n",
    "    A_t=asymptomatic, tested regularly and uniformly\n",
    "    N= the total population. We assume it is a fixed pool of gay, sexually active men, uniformly mixed.\n",
    "    \n",
    "    LATER (MAYBE):\n",
    "    S_u= symptomatic, not tested regularly (likley to get tested ASAP after onset of symptoms)\n",
    "    A_u= asymptomatic, untested. This group would act like a pool of cariers.\n",
    "\n",
    "    \n",
    "    Some parameters: \n",
    "    c_1=recovery rate of people who are symptomatic (per day)\n",
    "    c_2=recovery rate of asymptomatic people (per day)\n",
    "    c_3=average number of sexual partners per day per person (per day)\n",
    "    p_trans=probability of transmission for a single pairing (no units)\n",
    "    p_symp=probability that a contracted case is symptomatic (no units)\n",
    "    p_asymp=probability that a contracted case is asymptomatic (no units)\n",
    "    T=test result time\n",
    "    symp_T = average onset of symptoms for symptomatic infections\n",
    "\n",
    "    Relationship: Assume that without symptoms, we get tested every 90 days. Assume treatment takes 7 days. \n",
    "                  Recovery rate=1/recovery time. If we assume symptomatic people get tested as soon as they notice \n",
    "                  symptoms, then c_1=1/(symp_t+T+7) and c_2=1/(30+T+7)\n",
    "                  \n",
    "                  Note that 1=p_symp+p_asymp\n",
    "    \n",
    "    REMARKS: c_1 and c_2 are the key parameters here, since testing with faster results should increase the average \n",
    "             recovery rates (i.e. shorter recovery time)\n",
    "             \n",
    "             It might also make more sense to have an \"Exposed\" compartment that accounts for the latency period. \n",
    "    \n",
    "    ASSUMPTION: We assume that the infected/non-infected population is uniformly mixed, and that the probability\n",
    "                of a pairing between any of the compartments is uniform. This is not really realistic, because \n",
    "                it is likely that symptomatic people with remain abstinant until their treatment is over. \n",
    "                In our simplified setting, we will not assume that, but it can be adjusted later. We assume that in\n",
    "                a group of N sexually active gay men, there is c_3*N (people per day who have had a sexual interaction)\n",
    "                many interactons per day. We will assume that \n",
    "                there is no flow between compartments in an uninfected individual is paired \n",
    "                with an uninfected individual or if an infected individual is paired with another infected individual \n",
    "                (this is maybe another subtle simplification, since presumably an infected individual can be infected \n",
    "                with multiple strains.) Given that the total pairings per day is c_3*N, the number of pairings that could \n",
    "                lead to flow between compartments is just c_3*((S_t+A_t)/N)*X (the number of sexual interactions per day \n",
    "                that could result in an infection). NB: This term is a little fishy and I think we should rethink it. \n",
    "                \n",
    "                We also assume that recovered individuals are immediately susceptible again. \n",
    "    \"\"\"\n",
    "    \n",
    "    c_1=1/(symp_T+T) #symp_T = 3 - 5 days on average. \n",
    "    c_2=2/(21+T) #this is not realistic. Most people will clear in 2 weeks to 30 days (50 - 90% chance of clearing on your own.)\n",
    "    p_asymp=1-p_symp\n",
    "    \n",
    "    #Remark: 10% probability of disseminated symptoms. \n",
    "    \n",
    "    X, S_t, A_t = z\n",
    "    N = X+S_t+A_t \n",
    "    dXdt = c_1*S_t + c_2*A_t - c_3*(A_t/N)*X*p_trans #note the simplification using the fact that p_symp+p_asymp=1\n",
    "    dS_tdt = -c_1*S_t + c_3*(A_t/N)*X*p_trans*p_symp\n",
    "    dA_tdt = -c_2*A_t + c_3*(A_t/N)*X*p_trans*p_asymp\n",
    "    return [dXdt, dS_tdt, dA_tdt]"
   ]
  },
  {
   "cell_type": "code",
   "execution_count": 5,
   "id": "9c55efbc",
   "metadata": {},
   "outputs": [],
   "source": [
    "def ode_solver(t, initial_conditions, params):\n",
    "    initA_t, initS_t, initN = initial_conditions\n",
    "    T, symp_T, c_3, p_trans, p_symp = params\n",
    "    initX = initN - (initS_t + initA_t)\n",
    "    res = odeint(ode_model, [initX, initS_t, initA_t], t, args=(T, symp_T, c_3, p_trans, p_symp))\n",
    "    return res\n"
   ]
  },
  {
   "cell_type": "code",
   "execution_count": 58,
   "id": "57d4fe47",
   "metadata": {},
   "outputs": [],
   "source": [
    "\n",
    "initN = 30000 #Initial total Population, N\n",
    "# so initX=initN - initS_t - initA_t\n",
    "initS_t = 250\n",
    "initA_t = 250\n",
    "\n",
    "T=5\n",
    "symp_T=3\n",
    "c_3=2/7 #this assumes 2 partners per week... probably higher in some populations. \n",
    "p_trans=0.51\n",
    "p_symp=0.5\n",
    "days = 100000"
   ]
  },
  {
   "cell_type": "code",
   "execution_count": 59,
   "id": "661df85b",
   "metadata": {},
   "outputs": [],
   "source": [
    "def main(initS_t, initA_t, initN, T, symp_T, c_3, p_trans, p_symp, days):\n",
    "    initial_conditions = [initS_t, initA_t, initN]\n",
    "    params = [T, symp_T, c_3, p_trans, p_symp]\n",
    "    tspan = np.arange(100, days, 1)\n",
    "    sol = ode_solver(tspan, initial_conditions, params)\n",
    "    X,S_t, A_t = sol[:, 0], sol[:, 1], sol[:, 2]\n",
    "    \n",
    "    # Create traces\n",
    "    fig = go.Figure()\n",
    "    fig.add_trace(go.Scatter(x=tspan, y=X, mode='lines+markers', name='Susceptible'))\n",
    "    fig.add_trace(go.Scatter(x=tspan, y=S_t, mode='lines+markers', name='Symptomatic Infected'))\n",
    "    fig.add_trace(go.Scatter(x=tspan, y=A_t, mode='lines+markers', name='Asymptoatic Infected'))\n",
    "\n",
    "    \n",
    "    if days <= 30:\n",
    "        step = 1\n",
    "    elif days <= 90:\n",
    "        step = 7\n",
    "    else:\n",
    "        step = 30\n",
    "    \n",
    "    # Edit the layout\n",
    "    fig.update_layout(title='Simulation',\n",
    "                       xaxis_title='Day',\n",
    "                       yaxis_title='Counts',\n",
    "                       title_x=0.5,\n",
    "                      width=900, height=600\n",
    "                     )\n",
    "    fig.update_xaxes(tickangle=-90, tickformat = None, tickmode='array', tickvals=np.arange(50, days + 1, step))\n",
    "    if not os.path.exists(\"images\"):\n",
    "        os.mkdir(\"images\")\n",
    "    fig.write_image(\"images/seir_simulation.png\")\n",
    "    fig.show()\n",
    "    \n",
    "    return(sol[-1, 0], sol[-1, 1], sol[-1, 2])\n",
    "\n",
    "def main_noplot(initS_t, initA_t, initN, T, symp_T, c_3, p_trans, p_symp, days):\n",
    "    initial_conditions = [initS_t, initA_t, initN]\n",
    "    params = [T, symp_T, c_3, p_trans, p_symp]\n",
    "    tspan = np.arange(100, days, 1)\n",
    "    sol = ode_solver(tspan, initial_conditions, params)\n",
    "    X,S_t, A_t = sol[:, 0], sol[:, 1], sol[:, 2]\n",
    "    \n",
    "    return(sol[-1, 0], sol[-1, 1], sol[-1, 2])"
   ]
  },
  {
   "cell_type": "code",
   "execution_count": 60,
   "id": "996e23e6",
   "metadata": {},
   "outputs": [
    {
     "data": {
      "application/vnd.jupyter.widget-view+json": {
       "model_id": "70d7483775c04c369d231d1162421707",
       "version_major": 2,
       "version_minor": 0
      },
      "text/plain": [
       "interactive(children=(IntSlider(value=250, description='initS_t', layout=Layout(width='99%'), max=1000000, sty…"
      ]
     },
     "metadata": {},
     "output_type": "display_data"
    }
   ],
   "source": [
    "interact(main, initS_t=IntSlider(min=0, max=1000000, step=1, value=initS_t, description='initS_t', style=style, layout=slider_layout),\n",
    "               initA_t=IntSlider(min=0, max=1000000, step=10, value=initA_t, description='initA_t', style=style, layout=slider_layout),\n",
    "               initN=IntSlider(min=0, max=1000000, step=1000, value=initN, description='initN', style=style, layout=slider_layout),\n",
    "               T=FloatSlider(min=1, max=10, step=1, value=T, description='Restult Time', style=style, layout=slider_layout),\n",
    "               symp_T=FloatSlider(min=0, max=20, step=1, value=symp_T, description='Average Days Until Symptoms', style=style, layout=slider_layout),\n",
    "               c_3=FloatSlider(min=0, max=4, step=0.01, value=c_3, description='Partners per day', style=style, layout=slider_layout),\n",
    "               p_trans=FloatSlider(min=0,max=1,steps=0.01, value=p_trans, description='Transmission probability', style=style, layout=slider_layout),\n",
    "               p_symp=FloatSlider(min=0,max=1,steps=0.01, value=p_symp, description='Probability of Symptomatic Infection', style=style, layout=slider_layout), \n",
    "               days=IntSlider(min=200, max=800, step=7, value=days, description='Days', style=style, layout=slider_layout)\n",
    "        );"
   ]
  },
  {
   "cell_type": "code",
   "execution_count": 61,
   "id": "03877c9a",
   "metadata": {},
   "outputs": [
    {
     "data": {
      "text/plain": [
       "(29999.999999999975, 7.412725428959772e-17, 1.230294807602941e-16)"
      ]
     },
     "execution_count": 61,
     "metadata": {},
     "output_type": "execute_result"
    }
   ],
   "source": [
    "main_noplot(initS_t, initA_t, initN, T, symp_T, c_3, p_trans, p_symp, days)"
   ]
  },
  {
   "cell_type": "code",
   "execution_count": 62,
   "id": "f3bad43c",
   "metadata": {},
   "outputs": [],
   "source": [
    "steady_state_by_result_time=[main_noplot(initS_t, initA_t, initN, T, symp_T, c_3, p_trans, p_symp, days)[1]+main_noplot(initS_t, initA_t, initN, T, symp_T, c_3, p_trans, p_symp, days)[2] for T in range(1,14)]"
   ]
  },
  {
   "cell_type": "code",
   "execution_count": 63,
   "id": "831956c1",
   "metadata": {},
   "outputs": [
    {
     "data": {
      "text/plain": [
       "[<matplotlib.lines.Line2D at 0x7fb3f12be130>]"
      ]
     },
     "execution_count": 63,
     "metadata": {},
     "output_type": "execute_result"
    },
    {
     "data": {
      "image/png": "[encoded data removed]",
      "text/plain": [
       "<Figure size 432x288 with 1 Axes>"
      ]
     },
     "metadata": {},
     "output_type": "display_data"
    }
   ],
   "source": [
    "plt.plot(steady_state_by_result_time)"
   ]
  },
  {
   "cell_type": "code",
   "execution_count": 66,
   "id": "6fbc6c1a",
   "metadata": {},
   "outputs": [],
   "source": [
    "steady_state_by_result_time=np.abs(np.round(steady_state_by_result_time))"
   ]
  },
  {
   "cell_type": "code",
   "execution_count": null,
   "id": "ad52e158",
   "metadata": {},
   "outputs": [],
   "source": []
  }
 ],
 "metadata": {
  "kernelspec": {
   "display_name": "Python 3 (ipykernel)",
   "language": "python",
   "name": "python3"
  },
  "language_info": {
   "codemirror_mode": {
    "name": "ipython",
    "version": 3
   },
   "file_extension": ".py",
   "mimetype": "text/x-python",
   "name": "python",
   "nbconvert_exporter": "python",
   "pygments_lexer": "ipython3",
   "version": "3.9.7"
  }
 },
 "nbformat": 4,
 "nbformat_minor": 5
}
