{
 "cells": [
  {
   "cell_type": "code",
   "execution_count": 1,
   "metadata": {},
   "outputs": [],
   "source": [
    "def calculate_R0(inf_risk, ppm, asymp, recov_u, return_time, phi, rho):\n",
    "    # Assuming beta, lambda, gamma_u, and omega are directly proportional to their respective parameters\n",
    "    beta = inf_risk * ppm / 30  # Adjusted to be deterministic\n",
    "    lambda_val = asymp\n",
    "    gamma_u_val = 1 / (recov_u + 1e-11)\n",
    "    omega_val = 1 / (return_time + 1e-11)\n",
    "    sensitivity_val = phi\n",
    "\n",
    "    numerator = beta * lambda_val * (gamma_u_val**2 + gamma_u_val * rho + omega_val * (gamma_u_val - sensitivity_val * rho + rho))\n",
    "    denominator = gamma_u_val * (gamma_u_val**2 + gamma_u_val * rho + omega_val * (gamma_u_val + rho))\n",
    "    return numerator / denominator"
   ]
  },
  {
   "cell_type": "code",
   "execution_count": null,
   "metadata": {},
   "outputs": [],
   "source": []
  },
  {
   "cell_type": "code",
   "execution_count": null,
   "metadata": {},
   "outputs": [],
   "source": []
  },
  {
   "cell_type": "code",
   "execution_count": null,
   "metadata": {},
   "outputs": [],
   "source": []
  },
  {
   "cell_type": "code",
   "execution_count": 2,
   "metadata": {},
   "outputs": [
    {
     "name": "stderr",
     "output_type": "stream",
     "text": [
      "/opt/anaconda3/lib/python3.8/site-packages/pandas/core/computation/expressions.py:20: UserWarning: Pandas requires version '2.7.3' or newer of 'numexpr' (version '2.7.1' currently installed).\n",
      "  from pandas.core.computation.check import NUMEXPR_INSTALLED\n",
      "<ipython-input-2-59c9bccfe899>:15: DeprecationWarning: `salib.sample.saltelli` will be removed in SALib 1.5. Please use `salib.sample.sobol`\n",
      "  param_values = saltelli.sample(problem, num_samples)\n"
     ]
    },
    {
     "name": "stdout",
     "output_type": "stream",
     "text": [
      "First Order: [0.15356121 0.15249267 0.15345167 0.10632153 0.00221555 0.02730022\n",
      " 0.00254007]\n",
      "Total Order: [0.3680702  0.3664502  0.36412044 0.28552524 0.00776095 0.1031163\n",
      " 0.01162089]\n"
     ]
    }
   ],
   "source": [
    "from SALib.sample import saltelli\n",
    "from SALib.analyze import sobol\n",
    "import numpy as np\n",
    "\n",
    "# Define the model inputs\n",
    "problem = {\n",
    "    'num_vars': 7,\n",
    "    'names': ['inf_risk','ppm','asymp' , 'recov_u', 'return_time', 'phi','rho'],  # List of parameter names\n",
    "    'bounds': [[0, 1], [0, 120], [0,1],[1,30],[1,15],[0,1],[0,1]]  # Bounds for each parameter\n",
    "}\n",
    "\n",
    "num_samples = 2**14\n",
    "\n",
    "# Generate samples\n",
    "param_values = saltelli.sample(problem, num_samples)\n",
    "\n",
    "# Calculate R0 for each sample\n",
    "Y = np.array([calculate_R0(*params) for params in param_values])\n",
    "\n",
    "# Perform analysis\n",
    "Si = sobol.analyze(problem, Y)\n",
    "\n",
    "# Print the first order and total order effects\n",
    "print('First Order:', Si['S1'])\n",
    "print('Total Order:', Si['ST'])"
   ]
  },
  {
   "cell_type": "code",
   "execution_count": 3,
   "metadata": {},
   "outputs": [
    {
     "ename": "SyntaxError",
     "evalue": "invalid syntax (<ipython-input-3-8f081b070a01>, line 1)",
     "output_type": "error",
     "traceback": [
      "\u001b[0;36m  File \u001b[0;32m\"<ipython-input-3-8f081b070a01>\"\u001b[0;36m, line \u001b[0;32m1\u001b[0m\n\u001b[0;31m    First Order: [0.1561646  0.15500065 0.15589811 0.10858709 0.0028071  0.02253149\u001b[0m\n\u001b[0m          ^\u001b[0m\n\u001b[0;31mSyntaxError\u001b[0m\u001b[0;31m:\u001b[0m invalid syntax\n"
     ]
    }
   ],
   "source": [
    "First Order: [0.1561646  0.15500065 0.15589811 0.10858709 0.0028071  0.02253149\n",
    " 0.00217857]\n",
    "Total Order: [0.36979579 0.36818535 0.36596556 0.28690438 0.01027996 0.08724148\n",
    " 0.00976543]"
   ]
  },
  {
   "cell_type": "code",
   "execution_count": null,
   "metadata": {},
   "outputs": [],
   "source": []
  },
  {
   "cell_type": "code",
   "execution_count": 4,
   "metadata": {},
   "outputs": [
    {
     "name": "stderr",
     "output_type": "stream",
     "text": [
      "<ipython-input-4-0b8763a6526c>:28: DeprecationWarning: `salib.sample.saltelli` will be removed in SALib 1.5. Please use `salib.sample.sobol`\n",
      "  param_values = saltelli.sample(problem, num_samples)\n"
     ]
    },
    {
     "name": "stdout",
     "output_type": "stream",
     "text": [
      "First Order: [0.06850415 0.05938419 0.06692735 0.02447836 0.00173532 0.01207609\n",
      " 0.01139448 0.03038759 0.12010442]\n",
      "Total Order: [0.30010331 0.3103728  0.303779   0.2126027  0.00560034 0.14692215\n",
      " 0.04038035 0.14511929 0.47222717]\n"
     ]
    }
   ],
   "source": [
    "def calculate_R0(inf_risk, ppm, lambda_, theta, recover_s, recover_u, return_time, rho, phi):\n",
    "    beta = inf_risk * ppm / 30\n",
    "    gamma_u = 1 / (recover_u)\n",
    "    omega = 1 / (return_time)\n",
    "    gamma_s = 1/(recover_s)\n",
    "    \n",
    "    \n",
    "    \n",
    "    \n",
    "    numerator = (beta * lambda_ * (theta * (gamma_s + omega + rho) * (gamma_u**2 + gamma_u * omega + gamma_u * rho + omega * phi * rho)\n",
    "                  - (gamma_s**2 + gamma_s * omega + gamma_s * rho + omega * phi * rho) * (gamma_u * theta - gamma_u \n",
    "                  + omega * theta - omega + rho * (theta - 1))))\n",
    "    \n",
    "    denominator = ((gamma_s**2 + gamma_s * omega + gamma_s * rho + omega * phi * rho) \n",
    "                   * (gamma_u**2 + gamma_u * omega + gamma_u * rho + omega * phi * rho))\n",
    "    \n",
    "    return numerator / denominator\n",
    "\n",
    "problem = {\n",
    "    'num_vars': 9,\n",
    "    'names': ['inf_risk','ppm','lambda_' , 'theta', 'recover_s','recover_u', 'return_time', 'phi','rho'],  # List of parameter names\n",
    "    'bounds': [[0, 1], [0, 5], [0,1],[0,1],[1,25],[1,400],[1,15],[0,1],[0,1]]  # Bounds for each parameter\n",
    "}\n",
    "\n",
    "num_samples = 2**15\n",
    "\n",
    "# Generate samples\n",
    "param_values = saltelli.sample(problem, num_samples)\n",
    "\n",
    "# Calculate R0 for each sample\n",
    "Y = np.array([calculate_R0(*params) for params in param_values])\n",
    "\n",
    "# Perform analysis\n",
    "Si = sobol.analyze(problem, Y)\n",
    "\n",
    "# Print the first order and total order effects\n",
    "print('First Order:', Si['S1'])\n",
    "print('Total Order:', Si['ST'])\n",
    "    "
   ]
  },
  {
   "cell_type": "code",
   "execution_count": null,
   "metadata": {},
   "outputs": [],
   "source": []
  },
  {
   "cell_type": "code",
   "execution_count": null,
   "metadata": {},
   "outputs": [],
   "source": []
  }
 ],
 "metadata": {
  "kernelspec": {
   "display_name": "Python 3",
   "language": "python",
   "name": "python3"
  },
  "language_info": {
   "codemirror_mode": {
    "name": "ipython",
    "version": 3
   },
   "file_extension": ".py",
   "mimetype": "text/x-python",
   "name": "python",
   "nbconvert_exporter": "python",
   "pygments_lexer": "ipython3",
   "version": "3.8.5"
  }
 },
 "nbformat": 4,
 "nbformat_minor": 4
}
