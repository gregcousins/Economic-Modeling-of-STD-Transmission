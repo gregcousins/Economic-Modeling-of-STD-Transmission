{
 "cells": [
  {
   "cell_type": "code",
   "execution_count": 12,
   "id": "051af572",
   "metadata": {},
   "outputs": [],
   "source": [
    "def estBetaParams(mu, var):\n",
    "    alpha=((1 - mu) / var - 1 / mu) * mu**2\n",
    "    beta=alpha * (1 / mu - 1)\n",
    "    return alpha,beta\n",
    "\n",
    "def estGammaParams(mu,var):\n",
    "    shape=(mu**2)/var\n",
    "    scale=var/mu\n",
    "    return shape, scale\n",
    "    \n",
    "    \n",
    "    \n",
    "                    "
   ]
  },
  {
   "cell_type": "code",
   "execution_count": 13,
   "id": "2462890f",
   "metadata": {},
   "outputs": [
    {
     "data": {
      "text/plain": [
       "(12.0, 3.0)"
      ]
     },
     "execution_count": 13,
     "metadata": {},
     "output_type": "execute_result"
    }
   ],
   "source": [
    "estBetaParams(0.8,0.01)"
   ]
  },
  {
   "cell_type": "code",
   "execution_count": 14,
   "id": "4203b30c",
   "metadata": {},
   "outputs": [
    {
     "data": {
      "text/plain": [
       "(14.0, 6.0)"
      ]
     },
     "execution_count": 14,
     "metadata": {},
     "output_type": "execute_result"
    }
   ],
   "source": [
    "estBetaParams(0.7,0.01)"
   ]
  },
  {
   "cell_type": "code",
   "execution_count": 18,
   "id": "b5d81809",
   "metadata": {},
   "outputs": [
    {
     "data": {
      "text/plain": [
       "(9.0, 0.3333333333333333)"
      ]
     },
     "execution_count": 18,
     "metadata": {},
     "output_type": "execute_result"
    }
   ],
   "source": [
    "estGammaParams(3,1)"
   ]
  },
  {
   "cell_type": "code",
   "execution_count": 17,
   "id": "b7159af9",
   "metadata": {},
   "outputs": [
    {
     "data": {
      "text/plain": [
       "(49.0, 0.14285714285714285)"
      ]
     },
     "execution_count": 17,
     "metadata": {},
     "output_type": "execute_result"
    }
   ],
   "source": [
    "estGammaParams(7,1)"
   ]
  },
  {
   "cell_type": "code",
   "execution_count": 19,
   "id": "879b3832",
   "metadata": {},
   "outputs": [
    {
     "data": {
      "text/plain": [
       "(196.0, 0.07142857142857142)"
      ]
     },
     "execution_count": 19,
     "metadata": {},
     "output_type": "execute_result"
    }
   ],
   "source": [
    "estGammaParams(14,1)"
   ]
  },
  {
   "cell_type": "code",
   "execution_count": 20,
   "id": "a1ec493e",
   "metadata": {},
   "outputs": [
    {
     "data": {
      "text/plain": [
       "(25.0, 0.2)"
      ]
     },
     "execution_count": 20,
     "metadata": {},
     "output_type": "execute_result"
    }
   ],
   "source": [
    "estGammaParams(5,1)"
   ]
  },
  {
   "cell_type": "code",
   "execution_count": null,
   "id": "eed6b1cc",
   "metadata": {},
   "outputs": [],
   "source": []
  }
 ],
 "metadata": {
  "kernelspec": {
   "display_name": "Python 3 (ipykernel)",
   "language": "python",
   "name": "python3"
  },
  "language_info": {
   "codemirror_mode": {
    "name": "ipython",
    "version": 3
   },
   "file_extension": ".py",
   "mimetype": "text/x-python",
   "name": "python",
   "nbconvert_exporter": "python",
   "pygments_lexer": "ipython3",
   "version": "3.11.4"
  }
 },
 "nbformat": 4,
 "nbformat_minor": 5
}
